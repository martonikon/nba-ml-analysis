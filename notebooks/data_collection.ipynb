{
 "cells": [
  {
   "cell_type": "code",
   "execution_count": 3,
   "id": "8018df3c-ae35-4925-ae72-48eb526a3134",
   "metadata": {},
   "outputs": [],
   "source": [
    "from nba_api.stats.endpoints import LeagueGameLog\n",
    "import pandas as pd\n"
   ]
  },
  {
   "cell_type": "code",
   "execution_count": 18,
   "id": "98a210fa-bb97-4b62-b817-26af9f85385e",
   "metadata": {},
   "outputs": [],
   "source": [
    "seasons = ['2017-18', '2018-19','2019-20', '2020-21','2021-22','2022-23','2023-24','2024-25']\n",
    "all_data = pd.DataFrame()"
   ]
  },
  {
   "cell_type": "code",
   "execution_count": 19,
   "id": "9123a396-eec9-4ee7-8318-6cf83b7fba19",
   "metadata": {},
   "outputs": [
    {
     "name": "stdout",
     "output_type": "stream",
     "text": [
      "Seasons list: ['2017-18', '2018-19', '2019-20', '2020-21', '2021-22', '2022-23', '2023-24', '2024-25']\n"
     ]
    }
   ],
   "source": [
    "print(\"Seasons list:\", seasons)"
   ]
  },
  {
   "cell_type": "code",
   "execution_count": 20,
   "id": "41814871-2fe2-4767-9afb-6477c8d03a5b",
   "metadata": {},
   "outputs": [
    {
     "name": "stdout",
     "output_type": "stream",
     "text": [
      "Fetching data for season: 2017-18\n",
      "Fetching data for season: 2018-19\n",
      "Fetching data for season: 2019-20\n",
      "Fetching data for season: 2020-21\n",
      "Fetching data for season: 2021-22\n",
      "Fetching data for season: 2022-23\n",
      "Fetching data for season: 2023-24\n",
      "Fetching data for season: 2024-25\n"
     ]
    }
   ],
   "source": [
    "for season in seasons:\n",
    "    print(f\"Fetching data for season: {season}\")\n",
    "    game_logs = LeagueGameLog(season=season, season_type_all_star='Regular Season')"
   ]
  },
  {
   "cell_type": "code",
   "execution_count": 21,
   "id": "7c80bb81-20e1-4827-b612-22ebac39840f",
   "metadata": {},
   "outputs": [
    {
     "name": "stdout",
     "output_type": "stream",
     "text": [
      "Data saved to ../data/nba_game_logs_2017_to_2024.csv\n"
     ]
    }
   ],
   "source": [
    "for season in seasons:\n",
    "    game_logs = LeagueGameLog(season=season, season_type_all_star='Regular Season')\n",
    "    df_season = game_logs.get_data_frames()[0]\n",
    "    df_season['SEASON'] = season\n",
    "    all_data = pd.concat([all_data, df_season], ignore_index=True)\n",
    "\n",
    "all_data.to_csv('../data/nba_game_logs_2017_to_2024.csv', index=False)\n",
    "print('Data saved to ../data/nba_game_logs_2017_to_2024.csv')\n",
    "\n",
    "    "
   ]
  },
  {
   "cell_type": "code",
   "execution_count": null,
   "id": "bf151ecc-3f5f-4c1d-8f7d-ce39a3fbe1db",
   "metadata": {},
   "outputs": [],
   "source": []
  }
 ],
 "metadata": {
  "kernelspec": {
   "display_name": "Python 3 (ipykernel)",
   "language": "python",
   "name": "python3"
  },
  "language_info": {
   "codemirror_mode": {
    "name": "ipython",
    "version": 3
   },
   "file_extension": ".py",
   "mimetype": "text/x-python",
   "name": "python",
   "nbconvert_exporter": "python",
   "pygments_lexer": "ipython3",
   "version": "3.12.8"
  }
 },
 "nbformat": 4,
 "nbformat_minor": 5
}
